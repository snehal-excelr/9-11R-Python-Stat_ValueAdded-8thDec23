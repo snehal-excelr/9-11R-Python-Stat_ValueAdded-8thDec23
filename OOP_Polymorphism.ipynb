{
  "nbformat": 4,
  "nbformat_minor": 0,
  "metadata": {
    "colab": {
      "provenance": []
    },
    "kernelspec": {
      "name": "python3",
      "display_name": "Python 3"
    },
    "language_info": {
      "name": "python"
    }
  },
  "cells": [
    {
      "cell_type": "markdown",
      "source": [
        "Class is a Template based on which objects can be created.\n",
        "\n",
        "It defines attributes and methods that every object will have.\n",
        "\n",
        "eg. 1. House Plan (3BHK) is a template and based on that template House 1,House 2 and House 3 are the 3 objects created.\n",
        "We can't live in plan, houses can have all properties of plan and its own properties (attributes and methods) also.\n",
        "eg. 2: Class Person(name,gender)\n",
        "Pl is a person. P1 is an object or instance of person class. person is a datatype of p1.\n",
        "p1=person('Tom','Male), P2=person('Mary','Female')\n",
        "When we say p1=person(), constructor __init__() of p1 gets invoked which is written inside person class.\n",
        "When we define any method inside the class including __init__() one parameter is mandatory i.e. self object.\n",
        "\n",
        "When we say p1=person(   ), object p1 is created, method __init__(p1,name,gender) is called. p1,name,gender is passed to init().\n",
        "Any method you define inside class say hello(p1,...) pl is passed to that method by default.\n",
        "eg. p1.name says hello means Tom says hello.\n",
        "\n",
        "p1 is called 'self' because same object is getting passed into the methods that are there inside the object."
      ],
      "metadata": {
        "id": "7Zf-aoabdsqu"
      }
    },
    {
      "cell_type": "markdown",
      "source": [
        "# **Define a Class**"
      ],
      "metadata": {
        "id": "dULkMTMFDzpp"
      }
    },
    {
      "cell_type": "code",
      "execution_count": null,
      "metadata": {
        "id": "gJ_wW4gvdpLS"
      },
      "outputs": [],
      "source": [
        "# A constructor is a special type of function called to create an object which has a same name as class.\n",
        "# In python constructor is defined as __init__( nam) (double underscore init double underscore)\n",
        "# Define a class\n",
        "class Person:\n",
        "  # Define the constructor\n",
        "  def __init__(self,name,age):\n",
        "    self.name = name\n",
        "    self.age = age\n",
        "  # Define instance method\n",
        "  def say_hello(self):\n",
        "    print(f'{self.name} says hello')\n",
        "\n",
        "  # let us define another method\n",
        "  def is_eligible(self):\n",
        "    if self.age >= 18:\n",
        "      return 'Eligible'\n",
        "    else:\n",
        "      return 'Underage'\n"
      ]
    },
    {
      "cell_type": "markdown",
      "source": [
        "# **Create Objects based on the Class**"
      ],
      "metadata": {
        "id": "ofjufYKhD979"
      }
    },
    {
      "cell_type": "code",
      "source": [
        "# create an object of type Person\n",
        "p1 = Person('Tom',23)"
      ],
      "metadata": {
        "id": "Ao9OLTBnppBX"
      },
      "execution_count": null,
      "outputs": []
    },
    {
      "cell_type": "code",
      "source": [
        "type(p1) # it is an object of type Person"
      ],
      "metadata": {
        "colab": {
          "base_uri": "https://localhost:8080/"
        },
        "id": "gUAzI2O0sGAV",
        "outputId": "1a847ed4-fb7b-4a73-bac5-6c0826d299e7"
      },
      "execution_count": null,
      "outputs": [
        {
          "output_type": "execute_result",
          "data": {
            "text/plain": [
              "__main__.Person"
            ]
          },
          "metadata": {},
          "execution_count": 11
        }
      ]
    },
    {
      "cell_type": "code",
      "source": [
        "# call method\n",
        "p1.say_hello()"
      ],
      "metadata": {
        "colab": {
          "base_uri": "https://localhost:8080/"
        },
        "id": "8ltgEMMCqEE_",
        "outputId": "f92c0b2a-fa88-43a5-ffaa-29c2040317e6"
      },
      "execution_count": null,
      "outputs": [
        {
          "output_type": "stream",
          "name": "stdout",
          "text": [
            "Tom says hello\n"
          ]
        }
      ]
    },
    {
      "cell_type": "code",
      "source": [
        "p1.is_eligible()"
      ],
      "metadata": {
        "colab": {
          "base_uri": "https://localhost:8080/",
          "height": 36
        },
        "id": "7uvoA8zGtFI3",
        "outputId": "46280ba2-822f-47bb-835f-ad580a2b1782"
      },
      "execution_count": null,
      "outputs": [
        {
          "output_type": "execute_result",
          "data": {
            "text/plain": [
              "'Eligible'"
            ],
            "application/vnd.google.colaboratory.intrinsic+json": {
              "type": "string"
            }
          },
          "metadata": {},
          "execution_count": 16
        }
      ]
    },
    {
      "cell_type": "code",
      "source": [
        "p2 = Person('Mary',17)"
      ],
      "metadata": {
        "id": "_gdDTW4qqLY1"
      },
      "execution_count": null,
      "outputs": []
    },
    {
      "cell_type": "code",
      "source": [
        "p2.say_hello()"
      ],
      "metadata": {
        "colab": {
          "base_uri": "https://localhost:8080/"
        },
        "id": "g2KIoVWJqbtC",
        "outputId": "7fcf0945-720f-4d07-be7b-233b2ba2c7c4"
      },
      "execution_count": null,
      "outputs": [
        {
          "output_type": "stream",
          "name": "stdout",
          "text": [
            "Mary says hello\n"
          ]
        }
      ]
    },
    {
      "cell_type": "code",
      "source": [
        "p1.age"
      ],
      "metadata": {
        "colab": {
          "base_uri": "https://localhost:8080/"
        },
        "id": "rRLl_566qoB4",
        "outputId": "a58eb701-768f-42a3-a0fa-3dad3702878a"
      },
      "execution_count": null,
      "outputs": [
        {
          "output_type": "execute_result",
          "data": {
            "text/plain": [
              "23"
            ]
          },
          "metadata": {},
          "execution_count": 9
        }
      ]
    },
    {
      "cell_type": "code",
      "source": [
        "p2.name"
      ],
      "metadata": {
        "colab": {
          "base_uri": "https://localhost:8080/",
          "height": 36
        },
        "id": "ApREodrkqrEI",
        "outputId": "6f79b14e-8d4f-4d40-c2ed-edc130e27a68"
      },
      "execution_count": null,
      "outputs": [
        {
          "output_type": "execute_result",
          "data": {
            "text/plain": [
              "'Mary'"
            ],
            "application/vnd.google.colaboratory.intrinsic+json": {
              "type": "string"
            }
          },
          "metadata": {},
          "execution_count": 10
        }
      ]
    },
    {
      "cell_type": "code",
      "source": [
        "p2.__dict__ # it gives us attributes of p2 object"
      ],
      "metadata": {
        "colab": {
          "base_uri": "https://localhost:8080/"
        },
        "id": "GocKdNH1qtFG",
        "outputId": "793b986e-b09d-40ff-ce5c-e7d561af6a27"
      },
      "execution_count": null,
      "outputs": [
        {
          "output_type": "execute_result",
          "data": {
            "text/plain": [
              "{'name': 'Mary', 'age': 17}"
            ]
          },
          "metadata": {},
          "execution_count": 18
        }
      ]
    },
    {
      "cell_type": "markdown",
      "source": [
        "Define a class called Student"
      ],
      "metadata": {
        "id": "iGKac5DfGUBN"
      }
    },
    {
      "cell_type": "code",
      "source": [
        "# Class name start with capital letter... it's a naming convention\n",
        "class Student:\n",
        "  def __init__(self,name,marks,course): #self is always 1st parameter for the constructor\n",
        "  # create and initialize the object\n",
        "    self.name = name\n",
        "    self.marks = marks\n",
        "    self.course = course\n",
        "\n",
        "  # define a method\n",
        "  def grades(self):\n",
        "    if self.marks >= 80:\n",
        "      return 'Distinction'\n",
        "    elif self.marks >= 60:\n",
        "      return 'First Class'\n",
        "    elif self.marks >= 50:\n",
        "      return 'Second Class'\n",
        "    else:\n",
        "      return 'Fail'"
      ],
      "metadata": {
        "id": "Qu3GPf7EqgJ5"
      },
      "execution_count": null,
      "outputs": []
    },
    {
      "cell_type": "code",
      "source": [
        "# Create students of type Student\n",
        "s1 = Student('Tom',75,'Python')"
      ],
      "metadata": {
        "id": "GBXHBuXEIOf2"
      },
      "execution_count": null,
      "outputs": []
    },
    {
      "cell_type": "code",
      "source": [
        "s1.__dict__ # see properties of 1st student"
      ],
      "metadata": {
        "colab": {
          "base_uri": "https://localhost:8080/"
        },
        "id": "2XY9tZ7DIlnh",
        "outputId": "b85dd742-daa3-4f37-e2f2-cd6af10ccc6e"
      },
      "execution_count": null,
      "outputs": [
        {
          "output_type": "execute_result",
          "data": {
            "text/plain": [
              "{'name': 'Tom', 'marks': 75, 'course': 'Python'}"
            ]
          },
          "metadata": {},
          "execution_count": 6
        }
      ]
    },
    {
      "cell_type": "code",
      "source": [
        "s2 = Student('Mary',45,'Data Science')"
      ],
      "metadata": {
        "id": "x2-0lOETIpgC"
      },
      "execution_count": null,
      "outputs": []
    },
    {
      "cell_type": "code",
      "source": [
        "s2.__dict__ # see properties of 2nd student"
      ],
      "metadata": {
        "colab": {
          "base_uri": "https://localhost:8080/"
        },
        "id": "9oP6JvrOIukK",
        "outputId": "68aa22c2-2f10-4446-e321-acc0920547a0"
      },
      "execution_count": null,
      "outputs": [
        {
          "output_type": "execute_result",
          "data": {
            "text/plain": [
              "{'name': 'Mary', 'marks': 45, 'course': 'Data Science'}"
            ]
          },
          "metadata": {},
          "execution_count": 9
        }
      ]
    },
    {
      "cell_type": "code",
      "source": [
        "s1.name"
      ],
      "metadata": {
        "colab": {
          "base_uri": "https://localhost:8080/",
          "height": 36
        },
        "id": "kD7wyDHDI2Wm",
        "outputId": "cb97ef6b-0c9f-4131-e35e-93751aada66f"
      },
      "execution_count": null,
      "outputs": [
        {
          "output_type": "execute_result",
          "data": {
            "text/plain": [
              "'Tom'"
            ],
            "application/vnd.google.colaboratory.intrinsic+json": {
              "type": "string"
            }
          },
          "metadata": {},
          "execution_count": 10
        }
      ]
    },
    {
      "cell_type": "code",
      "source": [
        "s2.name"
      ],
      "metadata": {
        "colab": {
          "base_uri": "https://localhost:8080/",
          "height": 36
        },
        "id": "UxaeDBxyJMQp",
        "outputId": "476cfa52-13a0-4c76-915c-af798485cc5c"
      },
      "execution_count": null,
      "outputs": [
        {
          "output_type": "execute_result",
          "data": {
            "text/plain": [
              "'Mary'"
            ],
            "application/vnd.google.colaboratory.intrinsic+json": {
              "type": "string"
            }
          },
          "metadata": {},
          "execution_count": 11
        }
      ]
    },
    {
      "cell_type": "code",
      "source": [
        "# To call a method defined in a class, you have to create object of class first (s1).\n",
        "# Then using object and dot operator you can call method. s1.grades()\n",
        "s1.grades()"
      ],
      "metadata": {
        "colab": {
          "base_uri": "https://localhost:8080/",
          "height": 36
        },
        "id": "HkWoKjUAJPSa",
        "outputId": "f9262261-dd9b-49d5-e19e-64d574daad2b"
      },
      "execution_count": null,
      "outputs": [
        {
          "output_type": "execute_result",
          "data": {
            "text/plain": [
              "'First Class'"
            ],
            "application/vnd.google.colaboratory.intrinsic+json": {
              "type": "string"
            }
          },
          "metadata": {},
          "execution_count": 12
        }
      ]
    },
    {
      "cell_type": "code",
      "source": [
        "s2.grades()"
      ],
      "metadata": {
        "colab": {
          "base_uri": "https://localhost:8080/",
          "height": 36
        },
        "id": "Oo4HxeFWJQ4u",
        "outputId": "d9a8954d-6978-44ef-f4dc-09cd8ddce946"
      },
      "execution_count": null,
      "outputs": [
        {
          "output_type": "execute_result",
          "data": {
            "text/plain": [
              "'Fail'"
            ],
            "application/vnd.google.colaboratory.intrinsic+json": {
              "type": "string"
            }
          },
          "metadata": {},
          "execution_count": 13
        }
      ]
    },
    {
      "cell_type": "code",
      "source": [
        "s2.marks"
      ],
      "metadata": {
        "colab": {
          "base_uri": "https://localhost:8080/"
        },
        "id": "0f_fG6EMJS_8",
        "outputId": "ca0add4b-1359-4988-f50b-33fee01d0e5f"
      },
      "execution_count": null,
      "outputs": [
        {
          "output_type": "execute_result",
          "data": {
            "text/plain": [
              "45"
            ]
          },
          "metadata": {},
          "execution_count": 14
        }
      ]
    },
    {
      "cell_type": "code",
      "source": [
        "s1.name = 'Thomas'"
      ],
      "metadata": {
        "id": "zT125XPnJzp7"
      },
      "execution_count": null,
      "outputs": []
    },
    {
      "cell_type": "code",
      "source": [
        "s1.name"
      ],
      "metadata": {
        "colab": {
          "base_uri": "https://localhost:8080/",
          "height": 36
        },
        "id": "Qf2AQ3BBJ2hk",
        "outputId": "ce65ca48-35c7-4a84-f591-75affd21769b"
      },
      "execution_count": null,
      "outputs": [
        {
          "output_type": "execute_result",
          "data": {
            "text/plain": [
              "'Thomas'"
            ],
            "application/vnd.google.colaboratory.intrinsic+json": {
              "type": "string"
            }
          },
          "metadata": {},
          "execution_count": 16
        }
      ]
    },
    {
      "cell_type": "code",
      "source": [
        "type(s1),type(s2)"
      ],
      "metadata": {
        "colab": {
          "base_uri": "https://localhost:8080/"
        },
        "id": "7VIPaBvzJ30Y",
        "outputId": "a7d55dbc-e1d8-4f6a-bdbe-3255500c2f5e"
      },
      "execution_count": null,
      "outputs": [
        {
          "output_type": "execute_result",
          "data": {
            "text/plain": [
              "(__main__.Student, __main__.Student)"
            ]
          },
          "metadata": {},
          "execution_count": 17
        }
      ]
    },
    {
      "cell_type": "markdown",
      "source": [
        "Two important properties of OOP:\n",
        "1. Inheritance\n",
        "2. Polymorphism (Internally it uses function/method overriding)\n",
        "\n",
        "1. INHERITANCE\n",
        "Here we define a base(parent) class and you derive a derived class from base class.\n",
        "eg. Parent class will contain all common properties.\n",
        "Derived class will have specific properties.\n",
        "Animal (Base Class)\n",
        "Mammals, Non-Mammals(Derived Classes)\n",
        "Mammals and Non-Mammals will inherit all properties of base class + some specific properties of specific to itself.\n",
        "Inheritance relation is called 'is-A Relationship'.\n",
        "\n",
        "  Under Mammals you can have Cat and Dog class.\n",
        "\n",
        "In Person and Employee what should be the base and derived class?\n",
        "\n",
        "eg. person(name,age) - Dancer(dance()), Astronaut(launch_satellite())"
      ],
      "metadata": {
        "id": "W-3SGSTNKmsO"
      }
    },
    {
      "cell_type": "markdown",
      "source": [
        "## **Inheritance**"
      ],
      "metadata": {
        "id": "sSmWwT2ONfQn"
      }
    },
    {
      "cell_type": "markdown",
      "source": [
        "**Define the Base Class**"
      ],
      "metadata": {
        "id": "7GxFtcSgNse5"
      }
    },
    {
      "cell_type": "code",
      "source": [
        "class Person:\n",
        "  # Define the constructor\n",
        "  def __init__(self,name,age):\n",
        "    self.name = name\n",
        "    self.age = age\n",
        "\n",
        "  # Define instance methods\n",
        "  def say_hello(self):\n",
        "    print(f'{self.name} says hello')\n",
        "\n",
        "  def is_eligible(self):\n",
        "    if self.age > 18:\n",
        "      return 'Eligible'\n",
        "    else:\n",
        "      return 'Underage'\n"
      ],
      "metadata": {
        "id": "fMeHAbhMKerm"
      },
      "execution_count": null,
      "outputs": []
    },
    {
      "cell_type": "markdown",
      "source": [
        "**Define the Derived Classes**"
      ],
      "metadata": {
        "id": "xWoiuSdpOqbz"
      }
    },
    {
      "cell_type": "code",
      "source": [
        "class Astronaut(Person):\n",
        "  def __init__(self,name,age,type): # this is constructor of Derived class\n",
        "    # Call Constructor of Base/Super Class\n",
        "    # Before setting parameters of Astronaut class we should call base class's init method.\n",
        "    # Because Astronaut has all properties of Person(base) class i.e. 'name,age' and specific property of Astronaut as 'type'.\n",
        "    # To call init() method of Person class use Super().__init__()\n",
        "\n",
        "    # initialize super class and derived class attributes\n",
        "    super().__init__(name,age) # it will initialize name and age of base class\n",
        "    self.type = type # it will initialize type of derived class\n",
        "\n",
        "# define method of derived class\n",
        "  def launch_satellite(self):\n",
        "    print(f'{self.name} is launching a satellite.')"
      ],
      "metadata": {
        "id": "sXusOeF9OpOb"
      },
      "execution_count": null,
      "outputs": []
    },
    {
      "cell_type": "code",
      "source": [
        "s1 = Astronaut('Tom',32,'Pilot')"
      ],
      "metadata": {
        "id": "VSFz24DuRlzh"
      },
      "execution_count": null,
      "outputs": []
    },
    {
      "cell_type": "code",
      "source": [
        "s2 = Astronaut('Mary',27,'Pilot')"
      ],
      "metadata": {
        "id": "p6H_Crq2S9ZP"
      },
      "execution_count": null,
      "outputs": []
    },
    {
      "cell_type": "code",
      "source": [
        "s1.launch_satellite()"
      ],
      "metadata": {
        "colab": {
          "base_uri": "https://localhost:8080/"
        },
        "id": "A_b740CuTDXo",
        "outputId": "762511c2-e6ed-47dd-a8e8-b494218f0342"
      },
      "execution_count": null,
      "outputs": [
        {
          "output_type": "stream",
          "name": "stdout",
          "text": [
            "Tom is launching a satellite.\n"
          ]
        }
      ]
    },
    {
      "cell_type": "code",
      "source": [
        "s2.launch_satellite()"
      ],
      "metadata": {
        "colab": {
          "base_uri": "https://localhost:8080/"
        },
        "id": "3GU6C783TGmd",
        "outputId": "132f01f0-28c0-4cc4-f311-7dd4ccad8cd9"
      },
      "execution_count": null,
      "outputs": [
        {
          "output_type": "stream",
          "name": "stdout",
          "text": [
            "Mary is launching a satellite.\n"
          ]
        }
      ]
    },
    {
      "cell_type": "code",
      "source": [
        "s1.name"
      ],
      "metadata": {
        "colab": {
          "base_uri": "https://localhost:8080/",
          "height": 36
        },
        "id": "wz2HT6MMTTze",
        "outputId": "04fb27b7-d739-4912-b8fa-a6c0ccf72092"
      },
      "execution_count": null,
      "outputs": [
        {
          "output_type": "execute_result",
          "data": {
            "text/plain": [
              "'Tom'"
            ],
            "application/vnd.google.colaboratory.intrinsic+json": {
              "type": "string"
            }
          },
          "metadata": {},
          "execution_count": 40
        }
      ]
    },
    {
      "cell_type": "code",
      "source": [
        "s2.type"
      ],
      "metadata": {
        "colab": {
          "base_uri": "https://localhost:8080/",
          "height": 36
        },
        "id": "_liz3RVuTV8y",
        "outputId": "694620b8-85d2-416f-d5c9-a713b795cbc2"
      },
      "execution_count": null,
      "outputs": [
        {
          "output_type": "execute_result",
          "data": {
            "text/plain": [
              "'Pilot'"
            ],
            "application/vnd.google.colaboratory.intrinsic+json": {
              "type": "string"
            }
          },
          "metadata": {},
          "execution_count": 63
        }
      ]
    },
    {
      "cell_type": "code",
      "source": [
        "# Method from base class\n",
        "s1.say_hello()"
      ],
      "metadata": {
        "colab": {
          "base_uri": "https://localhost:8080/"
        },
        "id": "q0h14bNaYnTh",
        "outputId": "4fb20640-e645-489e-c17f-825ef4df6254"
      },
      "execution_count": null,
      "outputs": [
        {
          "output_type": "stream",
          "name": "stdout",
          "text": [
            "Tom says hello\n"
          ]
        }
      ]
    },
    {
      "cell_type": "code",
      "source": [
        "# Method from base class\n",
        "s2.is_eligible()"
      ],
      "metadata": {
        "id": "18jU7N0VYrV-",
        "outputId": "9dabbac5-f4a4-4c39-c0c8-2083298ae8b9",
        "colab": {
          "base_uri": "https://localhost:8080/",
          "height": 36
        }
      },
      "execution_count": null,
      "outputs": [
        {
          "output_type": "execute_result",
          "data": {
            "text/plain": [
              "'Eligible'"
            ],
            "application/vnd.google.colaboratory.intrinsic+json": {
              "type": "string"
            }
          },
          "metadata": {},
          "execution_count": 65
        }
      ]
    },
    {
      "cell_type": "code",
      "source": [],
      "metadata": {
        "id": "yEcOU-GQYuAV"
      },
      "execution_count": null,
      "outputs": []
    },
    {
      "cell_type": "markdown",
      "source": [
        "Create another derived class of Person as Dancer. So, Dancer is a Person.\n",
        "\n",
        "Dancer has a property as genere and a method dance()\n",
        "\n",
        "Inside method dance() display the statement as: self.name is performing (genere) self.dance\n",
        "\n",
        "i.e. If genere is classical it will say: self.name is performing classical dance.\n",
        "\n",
        "If genere is bollywood it will say: self.name is performing bollywood dance"
      ],
      "metadata": {
        "id": "AWdNxVbaT_gL"
      }
    },
    {
      "cell_type": "code",
      "source": [
        "class Dancer(Person):\n",
        "  def __init__(self,name,age,genre): # this is constructor of Derived class\n",
        "    # Call Constructor of Base/Super Class\n",
        "    # initialize super class and derived class attributes\n",
        "    super().__init__(name,age) # it will initialize name and age of base class\n",
        "    self.genre = genre # it will initialize type of derived class\n",
        "\n",
        "# define methods of derived class\n",
        "  def dance(self):\n",
        "    print(f'{self.name} is performing a {self.genre} dance')"
      ],
      "metadata": {
        "id": "Id9-mOSPTXOW"
      },
      "execution_count": null,
      "outputs": []
    },
    {
      "cell_type": "code",
      "source": [
        "d1 = Dancer('Kate',32,'Classical')"
      ],
      "metadata": {
        "id": "K3dzb2anWvly"
      },
      "execution_count": null,
      "outputs": []
    },
    {
      "cell_type": "code",
      "source": [
        "d2 = Dancer('Madhuri',45,'Bollywood')"
      ],
      "metadata": {
        "id": "c00jDC8xXD7N"
      },
      "execution_count": null,
      "outputs": []
    },
    {
      "cell_type": "code",
      "source": [
        "# Method from derived class\n",
        "d1.dance()"
      ],
      "metadata": {
        "colab": {
          "base_uri": "https://localhost:8080/"
        },
        "id": "bGatTlj9Xx8e",
        "outputId": "7614ec53-404b-4723-fed7-777ee261a117"
      },
      "execution_count": null,
      "outputs": [
        {
          "output_type": "stream",
          "name": "stdout",
          "text": [
            "Kate is performing a Classical dance\n"
          ]
        }
      ]
    },
    {
      "cell_type": "code",
      "source": [
        "d2.dance()"
      ],
      "metadata": {
        "colab": {
          "base_uri": "https://localhost:8080/"
        },
        "id": "Vx9GB_B8X20H",
        "outputId": "a2385ddd-23e7-4095-fbf7-928e3dd0e792"
      },
      "execution_count": null,
      "outputs": [
        {
          "output_type": "stream",
          "name": "stdout",
          "text": [
            "Madhuri is performing a Bollywood dance\n"
          ]
        }
      ]
    },
    {
      "cell_type": "code",
      "source": [
        "# Method from base class\n",
        "d1.is_eligible()"
      ],
      "metadata": {
        "colab": {
          "base_uri": "https://localhost:8080/",
          "height": 36
        },
        "id": "Fpeug89QYObv",
        "outputId": "82d53277-3c3d-4d1d-a5a0-bfc56098b99c"
      },
      "execution_count": null,
      "outputs": [
        {
          "output_type": "execute_result",
          "data": {
            "text/plain": [
              "'Eligible'"
            ],
            "application/vnd.google.colaboratory.intrinsic+json": {
              "type": "string"
            }
          },
          "metadata": {},
          "execution_count": 61
        }
      ]
    },
    {
      "cell_type": "code",
      "source": [
        "# Method from base class\n",
        "d1.say_hello()"
      ],
      "metadata": {
        "colab": {
          "base_uri": "https://localhost:8080/"
        },
        "id": "7-cY8kzEYS3F",
        "outputId": "09b64eee-0bf8-4301-9d2b-8036d075c990"
      },
      "execution_count": null,
      "outputs": [
        {
          "output_type": "stream",
          "name": "stdout",
          "text": [
            "Kate says hello\n"
          ]
        }
      ]
    },
    {
      "cell_type": "markdown",
      "source": [
        "# Exercise\n",
        "Create Base class called Employee(name,age)\n",
        "\n",
        "Derived class HR(job='hr',job_desc='salesperson',hire_emp()),\n",
        "\n",
        "Manager(job='mgr',proj_name='attendance',manage_project())\n",
        "\n",
        "When we call hire_emp() method, it should say: Manager_name is hiring a salesperson.\n",
        "\n",
        "When we call manage_project(), it should say: Manager_name is managing attendance project.\n"
      ],
      "metadata": {
        "id": "FiiWQXEmiCjD"
      }
    },
    {
      "cell_type": "markdown",
      "source": [
        "# Variable Types\n",
        "1. Private:If you declare an attribute or method as private, it is accessible within that class only.\n",
        "\n",
        "2. Public: If you declare an attribute or method as public, it can be accessed from anywhere.\n",
        "\n",
        "In Python we don't have keyword as private. Here we use double underscore naming convention to declare a private variable.\n",
        "\n",
        "eg. __name : python will interpret it as a private variable.\n",
        "\n",
        "eg. If Person is a class having 2 attributes: name as public, __age as private.\n",
        "\n",
        "If object of class is created as follows: p1=Person('Tom',25)\n",
        "\n",
        "p1.name will give you name as Tom but p1.__age will raise an attribute error as its private.\n",
        "\n",
        "To see the age outside of class, create a method say def get_age(): return self.__age. This will work as method is also inside class only.\n",
        "\n",
        "Now if you say p1.get_age(), it will return you age."
      ],
      "metadata": {
        "id": "P4qbVx9wqn7w"
      }
    },
    {
      "cell_type": "markdown",
      "source": [
        "**Private and Public variables**"
      ],
      "metadata": {
        "id": "L7cFVv6MuSyL"
      }
    },
    {
      "cell_type": "code",
      "source": [
        "class Person:\n",
        "  def __init__(self,name,age):\n",
        "    self.name = name # public attribute\n",
        "    self.__age = age # private attribute"
      ],
      "metadata": {
        "id": "2RxIPRY6YY0h"
      },
      "execution_count": null,
      "outputs": []
    },
    {
      "cell_type": "code",
      "source": [
        "p = Person('Tom',25)"
      ],
      "metadata": {
        "id": "HvRK9GglS70y"
      },
      "execution_count": null,
      "outputs": []
    },
    {
      "cell_type": "code",
      "source": [
        "p.name"
      ],
      "metadata": {
        "colab": {
          "base_uri": "https://localhost:8080/",
          "height": 35
        },
        "id": "yi_KAChqu7Mg",
        "outputId": "0007e8a1-0dd2-453d-a05c-3ef862893a74"
      },
      "execution_count": null,
      "outputs": [
        {
          "output_type": "execute_result",
          "data": {
            "text/plain": [
              "'Tom'"
            ],
            "application/vnd.google.colaboratory.intrinsic+json": {
              "type": "string"
            }
          },
          "metadata": {},
          "execution_count": 4
        }
      ]
    },
    {
      "cell_type": "code",
      "source": [
        "p.__age"
      ],
      "metadata": {
        "colab": {
          "base_uri": "https://localhost:8080/",
          "height": 177
        },
        "id": "tYgKemLBu7QJ",
        "outputId": "39f7081f-776d-4444-9d39-e6551a6b7aef"
      },
      "execution_count": null,
      "outputs": [
        {
          "output_type": "error",
          "ename": "AttributeError",
          "evalue": "ignored",
          "traceback": [
            "\u001b[0;31m---------------------------------------------------------------------------\u001b[0m",
            "\u001b[0;31mAttributeError\u001b[0m                            Traceback (most recent call last)",
            "\u001b[0;32m<ipython-input-5-064b181be7ac>\u001b[0m in \u001b[0;36m<cell line: 1>\u001b[0;34m()\u001b[0m\n\u001b[0;32m----> 1\u001b[0;31m \u001b[0mp\u001b[0m\u001b[0;34m.\u001b[0m\u001b[0m__age\u001b[0m\u001b[0;34m\u001b[0m\u001b[0;34m\u001b[0m\u001b[0m\n\u001b[0m",
            "\u001b[0;31mAttributeError\u001b[0m: 'Person' object has no attribute '__age'"
          ]
        }
      ]
    },
    {
      "cell_type": "code",
      "source": [
        "# Define a method in class\n",
        "class Person:\n",
        "  def __init__(self,name,age):\n",
        "    self.name = name # public attribute\n",
        "    self.__age = age # private attribute\n",
        "  def get_age(self):\n",
        "    return self.__age"
      ],
      "metadata": {
        "id": "1EMURqksvG6h"
      },
      "execution_count": null,
      "outputs": []
    },
    {
      "cell_type": "code",
      "source": [
        "p = Person('Thomas',25)"
      ],
      "metadata": {
        "id": "Hr77JAApURHP"
      },
      "execution_count": null,
      "outputs": []
    },
    {
      "cell_type": "code",
      "source": [
        "p.name"
      ],
      "metadata": {
        "colab": {
          "base_uri": "https://localhost:8080/",
          "height": 35
        },
        "id": "ZYj9Jm7Mvh1J",
        "outputId": "845945ab-8a6c-4f16-a1e1-46e769b9a9bb"
      },
      "execution_count": null,
      "outputs": [
        {
          "output_type": "execute_result",
          "data": {
            "text/plain": [
              "'Thomas'"
            ],
            "application/vnd.google.colaboratory.intrinsic+json": {
              "type": "string"
            }
          },
          "metadata": {},
          "execution_count": 18
        }
      ]
    },
    {
      "cell_type": "code",
      "source": [
        "p.__age"
      ],
      "metadata": {
        "colab": {
          "base_uri": "https://localhost:8080/",
          "height": 177
        },
        "id": "-gac0L2IUaMB",
        "outputId": "ae9449c5-fbb3-47b7-b85a-f53c54160a5b"
      },
      "execution_count": null,
      "outputs": [
        {
          "output_type": "error",
          "ename": "AttributeError",
          "evalue": "ignored",
          "traceback": [
            "\u001b[0;31m---------------------------------------------------------------------------\u001b[0m",
            "\u001b[0;31mAttributeError\u001b[0m                            Traceback (most recent call last)",
            "\u001b[0;32m<ipython-input-20-064b181be7ac>\u001b[0m in \u001b[0;36m<cell line: 1>\u001b[0;34m()\u001b[0m\n\u001b[0;32m----> 1\u001b[0;31m \u001b[0mp\u001b[0m\u001b[0;34m.\u001b[0m\u001b[0m__age\u001b[0m\u001b[0;34m\u001b[0m\u001b[0;34m\u001b[0m\u001b[0m\n\u001b[0m",
            "\u001b[0;31mAttributeError\u001b[0m: 'Person' object has no attribute '__age'"
          ]
        }
      ]
    },
    {
      "cell_type": "code",
      "source": [
        "p.get_age()"
      ],
      "metadata": {
        "colab": {
          "base_uri": "https://localhost:8080/"
        },
        "id": "RDN6e2ARvjza",
        "outputId": "657df949-caab-4f3a-9250-b3eaebaf2dfc"
      },
      "execution_count": null,
      "outputs": [
        {
          "output_type": "execute_result",
          "data": {
            "text/plain": [
              "25"
            ]
          },
          "metadata": {},
          "execution_count": 21
        }
      ]
    },
    {
      "cell_type": "code",
      "source": [
        "# Define a method in class\n",
        "class Person:\n",
        "  def __init__(self,name,age):\n",
        "    self.name = name # public attribute\n",
        "    self.__age = age # private attribute\n",
        "  def get_age(self):\n",
        "    return self.__age\n",
        "  def set_age(self,age): # to change age\n",
        "    self.__age = age"
      ],
      "metadata": {
        "id": "TPmgF8jJvmre"
      },
      "execution_count": null,
      "outputs": []
    },
    {
      "cell_type": "code",
      "source": [
        "p = Person('Thomas',25)"
      ],
      "metadata": {
        "id": "tB6yFIZtU-1d"
      },
      "execution_count": null,
      "outputs": []
    },
    {
      "cell_type": "code",
      "source": [
        "p.set_age(35)"
      ],
      "metadata": {
        "id": "9oRejWLBVB5j"
      },
      "execution_count": null,
      "outputs": []
    },
    {
      "cell_type": "code",
      "source": [
        "p.get_age()"
      ],
      "metadata": {
        "colab": {
          "base_uri": "https://localhost:8080/"
        },
        "id": "dpHgQfmWVQlW",
        "outputId": "98d03d1a-8a9b-4c73-ec93-af914eac0c80"
      },
      "execution_count": null,
      "outputs": [
        {
          "output_type": "execute_result",
          "data": {
            "text/plain": [
              "35"
            ]
          },
          "metadata": {},
          "execution_count": 27
        }
      ]
    },
    {
      "cell_type": "markdown",
      "source": [
        "Conclusion: Private variables are represented as double underscore.\n",
        "\n",
        "Once a variable is defined as private, anywhere inside class it is accessible i.e. you can use __age but outside of class it is not accessible.\n",
        "\n",
        "If you want to see or change private variables outside of class you have to define public set() and get() methods.\n",
        "\n"
      ],
      "metadata": {
        "id": "T0KHscAAVctj"
      }
    },
    {
      "cell_type": "markdown",
      "source": [
        "# **Polymorphism**\n",
        "Polymorphism means multiple forms. i.e. One function behaves differently based on the object or parameter on which it works.\n",
        "\n",
        "When we implement polymorphism using inheritance, it uses idea of Method Overriding.\n",
        "\n",
        "eg."
      ],
      "metadata": {
        "id": "tJGuI9ZfXEuv"
      }
    },
    {
      "cell_type": "code",
      "source": [
        "class Person:\n",
        "  # Define the constructor\n",
        "  def __init__(self,name,age):\n",
        "    self.name = name\n",
        "    self.age = age\n",
        "\n",
        "  # Define instance methods\n",
        "  def say_hello(self):\n",
        "    print(f'{self.name} says Hello.')"
      ],
      "metadata": {
        "id": "OQFTKozjVTiw"
      },
      "execution_count": null,
      "outputs": []
    },
    {
      "cell_type": "code",
      "source": [
        "class Astronaut(Person):\n",
        "  # Constructor of the derived class\n",
        "  def __init__(self,name,age,type):\n",
        "    # Call the constructor of the base/super class\n",
        "    super().__init__(name,age)\n",
        "    # Initialise the derived class attributes\n",
        "    self.type = type\n",
        "\n",
        "  def launch_satellite(self):\n",
        "    print(f'{self.name} is launching a satellite.')\n",
        "\n",
        "  def say_hello(self):\n",
        "    print(f'{self.type} says Hello.')\n"
      ],
      "metadata": {
        "id": "6ZlD4h1fZh49"
      },
      "execution_count": null,
      "outputs": []
    },
    {
      "cell_type": "code",
      "source": [
        "p = Person('Tom',25)"
      ],
      "metadata": {
        "id": "I6Tb4ZCDauws"
      },
      "execution_count": null,
      "outputs": []
    },
    {
      "cell_type": "code",
      "source": [
        "a = Astronaut('Alex',35,'Pilot')"
      ],
      "metadata": {
        "id": "E99iDSX6ayfA"
      },
      "execution_count": null,
      "outputs": []
    },
    {
      "cell_type": "code",
      "source": [
        "p.name"
      ],
      "metadata": {
        "colab": {
          "base_uri": "https://localhost:8080/",
          "height": 35
        },
        "id": "aBwGTD9wa8OG",
        "outputId": "f7e7b9ae-6858-47cc-e8cc-3d8109bfd820"
      },
      "execution_count": null,
      "outputs": [
        {
          "output_type": "execute_result",
          "data": {
            "text/plain": [
              "'Tom'"
            ],
            "application/vnd.google.colaboratory.intrinsic+json": {
              "type": "string"
            }
          },
          "metadata": {},
          "execution_count": 35
        }
      ]
    },
    {
      "cell_type": "code",
      "source": [
        "a.name"
      ],
      "metadata": {
        "colab": {
          "base_uri": "https://localhost:8080/",
          "height": 35
        },
        "id": "PMJkoxpxa-Mv",
        "outputId": "470d672a-6040-4e19-b1e5-5a415f12078e"
      },
      "execution_count": null,
      "outputs": [
        {
          "output_type": "execute_result",
          "data": {
            "text/plain": [
              "'Alex'"
            ],
            "application/vnd.google.colaboratory.intrinsic+json": {
              "type": "string"
            }
          },
          "metadata": {},
          "execution_count": 36
        }
      ]
    },
    {
      "cell_type": "code",
      "source": [
        "p.say_hello()"
      ],
      "metadata": {
        "colab": {
          "base_uri": "https://localhost:8080/"
        },
        "id": "4n8JcGhda_Oz",
        "outputId": "5f29ee57-b8bc-42e6-8042-978131cfbc60"
      },
      "execution_count": null,
      "outputs": [
        {
          "output_type": "stream",
          "name": "stdout",
          "text": [
            "Tom says Hello.\n"
          ]
        }
      ]
    },
    {
      "cell_type": "code",
      "source": [
        "a.say_hello()"
      ],
      "metadata": {
        "colab": {
          "base_uri": "https://localhost:8080/"
        },
        "id": "bZO0Z7LLbDIT",
        "outputId": "d8030617-3d05-48dc-93c5-33ed6bd3cabc"
      },
      "execution_count": null,
      "outputs": [
        {
          "output_type": "stream",
          "name": "stdout",
          "text": [
            "Pilot says Hello.\n"
          ]
        }
      ]
    },
    {
      "cell_type": "markdown",
      "source": [
        "say_hello() same method in base and derived class behaves differently depending on object we pass to it (name and type). This is polymorphism."
      ],
      "metadata": {
        "id": "J3JgwV9ibJ3z"
      }
    },
    {
      "cell_type": "markdown",
      "source": [
        "# **Conclusion of OOP:**\n",
        "Class is a Template.\n",
        "\n",
        "Objects are created based on templates.\n",
        "\n",
        "Class contains Properties/Attributes and Methods.\n",
        "\n",
        "In case of OOP there are 3 main concepts:\n",
        "\n",
        "1. Encapsulation: Whatever is related to class is clubbed together in one unit called Class. Here you can use idea of Public and Private variable. Encapsulation is also called Data hiding.\n",
        "\n",
        "2. Inheritance: Talks about base and derived class. All common properties are put in base class. You can create derived class from base class which inherits all properties of base class plus some additional properties of their own. It has 'is-A' relationship.\n",
        "\n",
        "3. Polymorphism: Any funcion can take multiple forms depending upon the object on which it works."
      ],
      "metadata": {
        "id": "BdO3WcxScpod"
      }
    },
    {
      "cell_type": "markdown",
      "source": [
        "# **Module, Package, Library**\n",
        "Module: collection of variables, functions and classes.\n",
        "\n",
        "Package: collection of modules.\n",
        "\n",
        "Library: collection of packages.\n",
        "Eg. Inside Pandas package we have method read_csv(), class DataFrame(), inside DataFrame we have attributes like data, index_vals, column_names,etc. and methods like merge(),join(),concat(),info(),head(),tail(),etc.\n",
        "To use all these we have to import pandas first.\n"
      ],
      "metadata": {
        "id": "rl-zvVMEfdBO"
      }
    },
    {
      "cell_type": "markdown",
      "source": [
        "# **File Handling and Exception Handling in Python**"
      ],
      "metadata": {
        "id": "-eBPg8O-f9Jn"
      }
    },
    {
      "cell_type": "code",
      "source": [
        "fo = open('dog_breeds.txt','r')"
      ],
      "metadata": {
        "id": "l0GhFS0bbFsp"
      },
      "execution_count": null,
      "outputs": []
    },
    {
      "cell_type": "code",
      "source": [
        "print('File name: ',fo.name)\n",
        "print('File mode: ',fo.mode)"
      ],
      "metadata": {
        "colab": {
          "base_uri": "https://localhost:8080/"
        },
        "id": "4xNlxWJEkdo-",
        "outputId": "f25e74ae-9ae7-411d-c4e0-dba8657b62ea"
      },
      "execution_count": null,
      "outputs": [
        {
          "output_type": "stream",
          "name": "stdout",
          "text": [
            "File name:  dog_breeds.txt\n",
            "File mode:  r\n"
          ]
        }
      ]
    },
    {
      "cell_type": "code",
      "source": [
        "print(fo.read())"
      ],
      "metadata": {
        "colab": {
          "base_uri": "https://localhost:8080/"
        },
        "id": "dydSj47Ykdx4",
        "outputId": "4e691333-8b65-476c-88f9-adbdc4c6146d"
      },
      "execution_count": null,
      "outputs": [
        {
          "output_type": "stream",
          "name": "stdout",
          "text": [
            "Pug\n",
            "Jack Russell Terrier\n",
            "English Springer Spaniel\n",
            "German Shepherd\n",
            "Staffordshire Bull Terrier\n",
            "Cavalier king Charles Spaniel\n",
            "Golden Retriever\n",
            "West Highland White Terrier\n",
            "Boxer\n",
            "Border Terrier\n"
          ]
        }
      ]
    },
    {
      "cell_type": "code",
      "source": [
        "print('File Colsed: ',fo.closed) # # chek if file is closed or not. It is not closed."
      ],
      "metadata": {
        "colab": {
          "base_uri": "https://localhost:8080/"
        },
        "id": "lIj9oinjmDk6",
        "outputId": "7c67cdd8-12d0-47ca-bedc-003282b9144d"
      },
      "execution_count": null,
      "outputs": [
        {
          "output_type": "stream",
          "name": "stdout",
          "text": [
            "File Colsed:  False\n"
          ]
        }
      ]
    },
    {
      "cell_type": "code",
      "source": [
        "fo.close() # after finishing your work with the flie always close it"
      ],
      "metadata": {
        "id": "WFWXp19hkd1Q"
      },
      "execution_count": null,
      "outputs": []
    },
    {
      "cell_type": "markdown",
      "source": [
        "### **with open()**\n",
        "It will automatically close the file once it finishes reading the contents of the file. No need to specifically close the file."
      ],
      "metadata": {
        "id": "z9hcimbfxpNC"
      }
    },
    {
      "cell_type": "code",
      "source": [
        "with open('dog_breeds.txt','r') as fo:\n",
        "  print(fo.read())"
      ],
      "metadata": {
        "colab": {
          "base_uri": "https://localhost:8080/"
        },
        "id": "dAUW7iJcmfcs",
        "outputId": "e2622880-2a4b-49e1-bc4c-ebb56bd346cb"
      },
      "execution_count": null,
      "outputs": [
        {
          "output_type": "stream",
          "name": "stdout",
          "text": [
            "Pug\n",
            "Jack Russell Terrier\n",
            "English Springer Spaniel\n",
            "German Shepherd\n",
            "Staffordshire Bull Terrier\n",
            "Cavalier king Charles Spaniel\n",
            "Golden Retriever\n",
            "West Highland White Terrier\n",
            "Boxer\n",
            "Border Terrier\n"
          ]
        }
      ]
    },
    {
      "cell_type": "code",
      "source": [
        "print('File Colsed: ',fo.closed) # chek if file is automatically closed or not. It is closed."
      ],
      "metadata": {
        "colab": {
          "base_uri": "https://localhost:8080/"
        },
        "id": "SJ1AToBqyHL3",
        "outputId": "827d3101-4e21-43ab-84ad-b1af8a82efef"
      },
      "execution_count": null,
      "outputs": [
        {
          "output_type": "stream",
          "name": "stdout",
          "text": [
            "File Colsed:  True\n"
          ]
        }
      ]
    },
    {
      "cell_type": "code",
      "source": [
        "# read only first 20 bytes of the file\n",
        "with open('dog_breeds.txt','r') as fo:\n",
        "  print(fo.read(20))"
      ],
      "metadata": {
        "colab": {
          "base_uri": "https://localhost:8080/"
        },
        "id": "3kT0hdUwykTN",
        "outputId": "cd8739e1-9d2d-40cf-b2e8-733ca0921437"
      },
      "execution_count": null,
      "outputs": [
        {
          "output_type": "stream",
          "name": "stdout",
          "text": [
            "Pug\n",
            "Jack Russell Ter\n"
          ]
        }
      ]
    },
    {
      "cell_type": "code",
      "source": [
        "# read records one by one using readlines() function\n",
        "with open('dog_breeds.txt','r') as fo:\n",
        "  for line in fo.readlines():\n",
        "    print(line, end=\"\")\n"
      ],
      "metadata": {
        "colab": {
          "base_uri": "https://localhost:8080/"
        },
        "id": "a0O2zz5nzjJI",
        "outputId": "bcc78f89-d004-4c7d-ea7d-1779a3921e3a"
      },
      "execution_count": null,
      "outputs": [
        {
          "output_type": "stream",
          "name": "stdout",
          "text": [
            "Pug\n",
            "Jack Russell Terrier\n",
            "English Springer Spaniel\n",
            "German Shepherd\n",
            "Staffordshire Bull Terrier\n",
            "Cavalier king Charles Spaniel\n",
            "Golden Retriever\n",
            "West Highland White Terrier\n",
            "Boxer\n",
            "Border Terrier"
          ]
        }
      ]
    },
    {
      "cell_type": "markdown",
      "source": [
        "**Write to a file: open it in write mode**"
      ],
      "metadata": {
        "id": "L4OD5A8EXTk2"
      }
    },
    {
      "cell_type": "code",
      "source": [
        "with open('test.txt','w') as writer:\n",
        "  writer.write('This is automatically written from python.')"
      ],
      "metadata": {
        "id": "-Ms5hzDx0XPM"
      },
      "execution_count": null,
      "outputs": []
    },
    {
      "cell_type": "markdown",
      "source": [
        "**Create copy of a file**"
      ],
      "metadata": {
        "id": "Lswawweva_F9"
      }
    },
    {
      "cell_type": "code",
      "source": [
        "with open('dog_breeds.txt','r') as reader:\n",
        "  with open('breeds_copy.txt','w') as writer:\n",
        "    for line in reader.readlines():\n",
        "      writer.write(line)"
      ],
      "metadata": {
        "id": "PnrHquAYYFdt"
      },
      "execution_count": null,
      "outputs": []
    },
    {
      "cell_type": "code",
      "source": [
        "with open('students.csv','r') as fo:\n",
        "  for line in fo.readlines():\n",
        "    print(line)"
      ],
      "metadata": {
        "colab": {
          "base_uri": "https://localhost:8080/"
        },
        "id": "-KUXoznMaTEn",
        "outputId": "bb899d1e-38ea-4c4a-a4fe-76b2799fe6f6"
      },
      "execution_count": null,
      "outputs": [
        {
          "output_type": "stream",
          "name": "stdout",
          "text": [
            "﻿Tom,28,Python,79\n",
            "\n",
            "Tim,34,Data Science,89\n",
            "\n",
            "Mary,22,Analytics,70\n",
            "\n",
            "George,39,Data Science,99\n",
            "\n"
          ]
        }
      ]
    },
    {
      "cell_type": "code",
      "source": [
        "with open('students.csv','r') as fo:\n",
        "  for line in fo.readlines():\n",
        "    student_info = line.split(',') #split() separates words based on comma and returns alist.\n",
        "    print('Name: ',student_info[0]) # reading list element with index number\n",
        "    print('Age: ',student_info[1])\n",
        "    print('Course: ',student_info[2])\n",
        "    print('Marks: ',student_info[3])\n",
        "    print('_'*20)"
      ],
      "metadata": {
        "colab": {
          "base_uri": "https://localhost:8080/"
        },
        "id": "4IoxLM3ygAht",
        "outputId": "91b6d77c-a56e-4703-b09a-91baa6004c4a"
      },
      "execution_count": null,
      "outputs": [
        {
          "output_type": "stream",
          "name": "stdout",
          "text": [
            "Name:  ﻿Tom\n",
            "Age:  28\n",
            "Course:  Python\n",
            "Marks:  79\n",
            "\n",
            "____________________\n",
            "Name:  Tim\n",
            "Age:  34\n",
            "Course:  Data Science\n",
            "Marks:  89\n",
            "\n",
            "____________________\n",
            "Name:  Mary\n",
            "Age:  22\n",
            "Course:  Analytics\n",
            "Marks:  70\n",
            "\n",
            "____________________\n",
            "Name:  George\n",
            "Age:  39\n",
            "Course:  Data Science\n",
            "Marks:  99\n",
            "\n",
            "____________________\n"
          ]
        }
      ]
    },
    {
      "cell_type": "markdown",
      "source": [
        "**Exceptions**\n",
        "To handle runtime errors. Code will handle these errors."
      ],
      "metadata": {
        "id": "zTWsV2S0hh_s"
      }
    },
    {
      "cell_type": "code",
      "source": [
        "# Try to open a file which is not available, it will raise an error\n",
        "with open('dogs.txt','r') as fo:\n",
        "  for line in fo.readlines():\n",
        "    print(line,end=\"\")"
      ],
      "metadata": {
        "colab": {
          "base_uri": "https://localhost:8080/",
          "height": 233
        },
        "id": "dt8pzPa7gxpv",
        "outputId": "37d1ec0f-43d7-4f2e-ea9d-d1b8bf0665df"
      },
      "execution_count": null,
      "outputs": [
        {
          "output_type": "error",
          "ename": "FileNotFoundError",
          "evalue": "ignored",
          "traceback": [
            "\u001b[0;31m---------------------------------------------------------------------------\u001b[0m",
            "\u001b[0;31mFileNotFoundError\u001b[0m                         Traceback (most recent call last)",
            "\u001b[0;32m<ipython-input-15-600a807b2e00>\u001b[0m in \u001b[0;36m<cell line: 2>\u001b[0;34m()\u001b[0m\n\u001b[1;32m      1\u001b[0m \u001b[0;31m# Try to open a file which is not available\u001b[0m\u001b[0;34m\u001b[0m\u001b[0;34m\u001b[0m\u001b[0m\n\u001b[0;32m----> 2\u001b[0;31m \u001b[0;32mwith\u001b[0m \u001b[0mopen\u001b[0m\u001b[0;34m(\u001b[0m\u001b[0;34m'dogs.txt'\u001b[0m\u001b[0;34m,\u001b[0m\u001b[0;34m'r'\u001b[0m\u001b[0;34m)\u001b[0m \u001b[0;32mas\u001b[0m \u001b[0mfo\u001b[0m\u001b[0;34m:\u001b[0m\u001b[0;34m\u001b[0m\u001b[0;34m\u001b[0m\u001b[0m\n\u001b[0m\u001b[1;32m      3\u001b[0m   \u001b[0;32mfor\u001b[0m \u001b[0mline\u001b[0m \u001b[0;32min\u001b[0m \u001b[0mfo\u001b[0m\u001b[0;34m.\u001b[0m\u001b[0mreadlines\u001b[0m\u001b[0;34m(\u001b[0m\u001b[0;34m)\u001b[0m\u001b[0;34m:\u001b[0m\u001b[0;34m\u001b[0m\u001b[0;34m\u001b[0m\u001b[0m\n\u001b[1;32m      4\u001b[0m     \u001b[0mprint\u001b[0m\u001b[0;34m(\u001b[0m\u001b[0mline\u001b[0m\u001b[0;34m,\u001b[0m\u001b[0mend\u001b[0m\u001b[0;34m=\u001b[0m\u001b[0;34m\"\"\u001b[0m\u001b[0;34m)\u001b[0m\u001b[0;34m\u001b[0m\u001b[0;34m\u001b[0m\u001b[0m\n",
            "\u001b[0;31mFileNotFoundError\u001b[0m: [Errno 2] No such file or directory: 'dogs.txt'"
          ]
        }
      ]
    },
    {
      "cell_type": "code",
      "source": [
        "# instead of error you will get error msg.\n",
        "try:\n",
        "  with open('dogs.txt','r') as fo:\n",
        "    for line in fo.readlines():\n",
        "      print(line,end=\"\")\n",
        "  print('Next Line') # This line will never be executed if file is not available\n",
        "except:\n",
        "  print(\"Is your file in the right location?\")\n",
        "print('Outside')"
      ],
      "metadata": {
        "colab": {
          "base_uri": "https://localhost:8080/"
        },
        "id": "e1JVtM6aiEAv",
        "outputId": "b717c1c4-2efb-439c-985c-687716573f84"
      },
      "execution_count": null,
      "outputs": [
        {
          "output_type": "stream",
          "name": "stdout",
          "text": [
            "Is your file in the right location?\n",
            "Outside\n"
          ]
        }
      ]
    },
    {
      "cell_type": "code",
      "source": [
        "# Predefined exceptions\n",
        "# google: built-in exceptions in python: Open python docs link\n",
        "# search FileNotFoundError\n",
        "\n",
        "try:\n",
        "  with open('dogs.txt','r') as fo:\n",
        "    for line in fo.readlines():\n",
        "      print(line,end=\"\")\n",
        "  print('Next Line') # This line will never be executed if file is not available\n",
        "except FileNotFoundError as fnerror:\n",
        "  print(fnerror) # contents of fnerror will be displayed. It is availabel in exception.\n",
        "print('Outside')"
      ],
      "metadata": {
        "colab": {
          "base_uri": "https://localhost:8080/"
        },
        "id": "hfK1t5LZi4b-",
        "outputId": "2fff33de-62e8-4fb2-cb87-2b9cee7beb6a"
      },
      "execution_count": null,
      "outputs": [
        {
          "output_type": "stream",
          "name": "stdout",
          "text": [
            "[Errno 2] No such file or directory: 'dogs.txt'\n",
            "Outside\n"
          ]
        }
      ]
    },
    {
      "cell_type": "markdown",
      "source": [
        "**AssertionError: To check certain conditions**"
      ],
      "metadata": {
        "id": "Z13IoJARl7Bx"
      }
    },
    {
      "cell_type": "code",
      "source": [
        "# Say requirement is age should be greater than 18\n",
        "age = 10 # try age=20\n",
        "try:\n",
        "  assert (age > 18), \"Age should be over 18\"\n",
        "  print('Next Line')\n",
        "except AssertionError as error:\n",
        "  print(\"Assert Failed\",error)\n",
        "print('Outside')"
      ],
      "metadata": {
        "colab": {
          "base_uri": "https://localhost:8080/"
        },
        "id": "7gM91z1tlUlg",
        "outputId": "bfad5d60-d5d0-4ee0-f3ac-1674fb374db4"
      },
      "execution_count": null,
      "outputs": [
        {
          "output_type": "stream",
          "name": "stdout",
          "text": [
            "Assert Failed Age should be over 18\n",
            "Outside\n"
          ]
        }
      ]
    },
    {
      "cell_type": "markdown",
      "source": [
        "Use else condition i.e. if something goes wrong execute else part"
      ],
      "metadata": {
        "id": "c0jrgU_on5VL"
      }
    },
    {
      "cell_type": "code",
      "source": [
        "age = 19 # try age=10\n",
        "try:\n",
        "  assert (age > 18), \"Age should be over 18\"\n",
        "  print('Next Line')\n",
        "except AssertionError as error:\n",
        "  print(\"Assert Failed\",error)\n",
        "else:\n",
        "  print(\"Assert Succeeded\")\n",
        "print('Outside')"
      ],
      "metadata": {
        "colab": {
          "base_uri": "https://localhost:8080/"
        },
        "id": "YJvz1OOFmqcj",
        "outputId": "69272461-a83a-4954-da86-75c690c7850f"
      },
      "execution_count": null,
      "outputs": [
        {
          "output_type": "stream",
          "name": "stdout",
          "text": [
            "Next Line\n",
            "Assert Succeeded\n",
            "Outside\n"
          ]
        }
      ]
    },
    {
      "cell_type": "markdown",
      "source": [
        "# **finally**\n",
        "It will be executed irrespective of error i.e. if error is there or not put code in finally block"
      ],
      "metadata": {
        "id": "j1bJwrP8oVYM"
      }
    },
    {
      "cell_type": "code",
      "source": [
        "age = 10 # try age=10\n",
        "try:\n",
        "  assert (age > 18), \"Age should be over 18\"\n",
        "  print('Next Line')\n",
        "except AssertionError as error:\n",
        "  print(\"Assert Failed\",error)\n",
        "else:\n",
        "  print(\"Assert Succeeded\")\n",
        "finally:\n",
        "  print(\"This is always executed\")\n",
        "print('Outside')"
      ],
      "metadata": {
        "colab": {
          "base_uri": "https://localhost:8080/"
        },
        "id": "KFnC-yWqmiw2",
        "outputId": "d0a6f4eb-da59-4690-d611-e8de4f801e00"
      },
      "execution_count": null,
      "outputs": [
        {
          "output_type": "stream",
          "name": "stdout",
          "text": [
            "Assert Failed Age should be over 18\n",
            "This is always executed\n",
            "Outside\n"
          ]
        }
      ]
    }
  ]
}