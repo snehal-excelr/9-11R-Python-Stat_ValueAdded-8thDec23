{
  "nbformat": 4,
  "nbformat_minor": 0,
  "metadata": {
    "kernelspec": {
      "display_name": "Python 3",
      "language": "python",
      "name": "python3"
    },
    "language_info": {
      "codemirror_mode": {
        "name": "ipython",
        "version": 3
      },
      "file_extension": ".py",
      "mimetype": "text/x-python",
      "name": "python",
      "nbconvert_exporter": "python",
      "pygments_lexer": "ipython3",
      "version": "3.7.4"
    },
    "colab": {
      "provenance": []
    }
  },
  "cells": [
    {
      "cell_type": "code",
      "metadata": {
        "id": "POmm8nss1aLc"
      },
      "source": [
        "from scipy import stats\n",
        "import pandas as pd\n",
        "import numpy as np"
      ],
      "execution_count": 1,
      "outputs": []
    },
    {
      "cell_type": "code",
      "source": [
        "ls #displays files in current working folder"
      ],
      "metadata": {
        "id": "Ut4cXCGNqYbO",
        "colab": {
          "base_uri": "https://localhost:8080/"
        },
        "outputId": "a93db256-d7bf-4d8e-ce05-eb8779602954"
      },
      "execution_count": 2,
      "outputs": [
        {
          "output_type": "stream",
          "name": "stdout",
          "text": [
            "beml_df.csv  glaxo_df.csv  \u001b[0m\u001b[01;34msample_data\u001b[0m/\n"
          ]
        }
      ]
    },
    {
      "cell_type": "code",
      "source": [
        "import os\n",
        "os.getcwd()"
      ],
      "metadata": {
        "id": "g-DFHm0-sWdo",
        "colab": {
          "base_uri": "https://localhost:8080/",
          "height": 36
        },
        "outputId": "f573f928-b8cc-4899-f180-15cf5b4cf82b"
      },
      "execution_count": 3,
      "outputs": [
        {
          "output_type": "execute_result",
          "data": {
            "text/plain": [
              "'/content'"
            ],
            "application/vnd.google.colaboratory.intrinsic+json": {
              "type": "string"
            }
          },
          "metadata": {},
          "execution_count": 3
        }
      ]
    },
    {
      "cell_type": "code",
      "source": [
        "glaxo_df=pd.read_csv('/content/glaxo_df.csv')\n",
        "glaxo_df"
      ],
      "metadata": {
        "id": "-51wm6EE_H8y"
      },
      "execution_count": null,
      "outputs": []
    },
    {
      "cell_type": "markdown",
      "source": [
        "# **Confidence Interval using Normal Distribution**"
      ],
      "metadata": {
        "id": "HqYF-JPgv2ps"
      }
    },
    {
      "cell_type": "code",
      "metadata": {
        "id": "iKYR7-Ta1aLl",
        "colab": {
          "base_uri": "https://localhost:8080/"
        },
        "outputId": "5526db4f-1fd2-4307-80a4-627a148998ed"
      },
      "source": [
        "#Find confidence interval first using normal distribution\n",
        "# here stats.norm.interval() will give you directly conf.interval for 95 % confidence. No need to do other calculations.\n",
        "glaxo_df_ci = stats.norm.interval(0.95,\n",
        "loc = glaxo_df.gain.mean(),\n",
        "scale = glaxo_df.gain.std())\n",
        "print(glaxo_df_ci)\n",
        "print( 'Mean at 95% confidence interval is:', np.round(glaxo_df_ci, 4))\n",
        "#For Glaxo max profit or loss can be expected in between -2.5% to 2.6% in a particular day."
      ],
      "execution_count": 5,
      "outputs": [
        {
          "output_type": "stream",
          "name": "stdout",
          "text": [
            "(-0.025800133293883098, 0.026572215459067686)\n",
            "Mean at 95% confidence interval is: [-0.0258  0.0266]\n"
          ]
        }
      ]
    },
    {
      "cell_type": "code",
      "source": [
        "glaxo_df_ci"
      ],
      "metadata": {
        "colab": {
          "base_uri": "https://localhost:8080/"
        },
        "id": "eFzkjNKO3Ez8",
        "outputId": "85637676-4c48-4d5a-ff30-eca64d0142aa"
      },
      "execution_count": 6,
      "outputs": [
        {
          "output_type": "execute_result",
          "data": {
            "text/plain": [
              "(-0.025800133293883098, 0.026572215459067686)"
            ]
          },
          "metadata": {},
          "execution_count": 6
        }
      ]
    },
    {
      "cell_type": "code",
      "source": [
        "beml_df=pd.read_csv('/content/beml_df.csv')\n",
        "beml_df"
      ],
      "metadata": {
        "id": "Qy0M-TRr_mw6"
      },
      "execution_count": null,
      "outputs": []
    },
    {
      "cell_type": "code",
      "source": [
        "beml_df_ci=stats.norm.interval(0.95,loc = beml_df.gain.mean(),scale = beml_df.gain.std())\n",
        "print( 'Mean at 95% confidence interval is:', np.round(beml_df_ci, 4))\n",
        "#For BEML max profit or loss can be expected in between -5.1% to 5.2% in a particular day."
      ],
      "metadata": {
        "colab": {
          "base_uri": "https://localhost:8080/"
        },
        "id": "c8Q_yz-aAlXV",
        "outputId": "ebb53b5d-8802-4af4-87c4-22c9aef6cf9f"
      },
      "execution_count": 8,
      "outputs": [
        {
          "output_type": "stream",
          "name": "stdout",
          "text": [
            "Mean at 95% confidence interval is: [-0.0515  0.0521]\n"
          ]
        }
      ]
    },
    {
      "cell_type": "code",
      "source": [
        "beml_df_ci"
      ],
      "metadata": {
        "colab": {
          "base_uri": "https://localhost:8080/"
        },
        "id": "J5vYY5NC51Ok",
        "outputId": "63802ccc-5ad3-415a-f968-2ed0596e517e"
      },
      "execution_count": 9,
      "outputs": [
        {
          "output_type": "execute_result",
          "data": {
            "text/plain": [
              "(-0.05153272968060136, 0.05207422583871583)"
            ]
          },
          "metadata": {},
          "execution_count": 9
        }
      ]
    },
    {
      "cell_type": "code",
      "source": [
        "glaxo_df"
      ],
      "metadata": {
        "id": "GYsrA2ao68Bn"
      },
      "execution_count": null,
      "outputs": []
    },
    {
      "cell_type": "markdown",
      "source": [
        "# **Confidence interval using t-distribution**"
      ],
      "metadata": {
        "id": "bgcU7CfBvkK9"
      }
    },
    {
      "cell_type": "code",
      "source": [
        "glaxo_df_ci=stats.t.interval(0.95,1737,\n",
        "                             loc = glaxo_df.gain.mean(),\n",
        "                             scale = glaxo_df.gain.std())\n",
        "glaxo_df_ci #0.95 - confidence, 1737 - degrees of freedom, loc - mean, scale - std deviation"
      ],
      "metadata": {
        "id": "cMez051QwCsT",
        "colab": {
          "base_uri": "https://localhost:8080/"
        },
        "outputId": "da700585-9d58-449a-a14d-63992bc5b2c8"
      },
      "execution_count": 10,
      "outputs": [
        {
          "output_type": "execute_result",
          "data": {
            "text/plain": [
              "(-0.025818392673534002, 0.02659047483871859)"
            ]
          },
          "metadata": {},
          "execution_count": 10
        }
      ]
    },
    {
      "cell_type": "code",
      "source": [
        "beml_df_ci=stats.t.interval(0.95,1737,\n",
        "                             loc = beml_df.gain.mean(),\n",
        "                             scale = beml_df.gain.std())\n",
        "beml_df_ci #0.95 - confidence, 1737 - degrees of freedom (n-1), loc - mean, scale - std deviation"
      ],
      "metadata": {
        "colab": {
          "base_uri": "https://localhost:8080/"
        },
        "id": "YyjSL3GNwfeb",
        "outputId": "54e845f2-d206-4d6d-b6c8-0f4e3918cbfd"
      },
      "execution_count": 11,
      "outputs": [
        {
          "output_type": "execute_result",
          "data": {
            "text/plain": [
              "(-0.05156885177136772, 0.05211034792948219)"
            ]
          },
          "metadata": {},
          "execution_count": 11
        }
      ]
    },
    {
      "cell_type": "code",
      "source": [
        "beml_df.gain.mean()"
      ],
      "metadata": {
        "colab": {
          "base_uri": "https://localhost:8080/"
        },
        "id": "uSpreJP68xU8",
        "outputId": "c5df1156-7368-4650-903e-aed8237d1bf7"
      },
      "execution_count": null,
      "outputs": [
        {
          "output_type": "execute_result",
          "data": {
            "text/plain": [
              "0.00027074807905723414"
            ]
          },
          "metadata": {},
          "execution_count": 17
        }
      ]
    },
    {
      "cell_type": "code",
      "source": [
        "beml_df.gain.std()"
      ],
      "metadata": {
        "colab": {
          "base_uri": "https://localhost:8080/"
        },
        "id": "T4-kKawv8xYW",
        "outputId": "d2e12ea2-0670-4005-c877-01de6ea37972"
      },
      "execution_count": null,
      "outputs": [
        {
          "output_type": "execute_result",
          "data": {
            "text/plain": [
              "0.02643083146847484"
            ]
          },
          "metadata": {},
          "execution_count": 18
        }
      ]
    },
    {
      "cell_type": "code",
      "source": [
        "#Find confidence interval using t distribution - Credit card example\n",
        "stats.t.ppf(0.975,139) # t value for 95% confidence\n",
        "#stats.t.ppf(0.95,139) # t value for 90% confidence"
      ],
      "metadata": {
        "id": "ZzdfBWtsxfDG",
        "colab": {
          "base_uri": "https://localhost:8080/"
        },
        "outputId": "dc273551-7e93-47d5-c69b-4709284bc538"
      },
      "execution_count": null,
      "outputs": [
        {
          "output_type": "execute_result",
          "data": {
            "text/plain": [
              "1.977177724476122"
            ]
          },
          "metadata": {},
          "execution_count": 11
        }
      ]
    }
  ]
}